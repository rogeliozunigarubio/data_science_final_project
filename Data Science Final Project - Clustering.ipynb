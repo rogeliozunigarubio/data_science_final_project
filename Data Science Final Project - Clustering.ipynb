{
 "cells": [
  {
   "cell_type": "code",
   "execution_count": 92,
   "metadata": {
    "collapsed": false
   },
   "outputs": [],
   "source": [
    "import pandas as pd\n",
    "import numpy as np\n",
    "import nltk\n",
    "import seaborn as snb\n",
    "import matplotlib.pyplot as plt\n",
    "%matplotlib inline\n",
    "\n",
    "from gensim.models.ldamodel import LdaModel\n",
    "from gensim.matutils import Sparse2Corpus\n",
    "from sklearn.preprocessing import StandardScaler\n",
    "from sklearn.feature_extraction.text import CountVectorizer\n",
    "from sklearn.cluster import KMeans\n",
    "from sklearn.metrics import silhouette_score"
   ]
  },
  {
   "cell_type": "code",
   "execution_count": 93,
   "metadata": {
    "collapsed": false
   },
   "outputs": [],
   "source": [
    "columns = ['place_code','destination_code','date','review']\n",
    "reviews = pd.read_csv('captured_reviews.csv',names=columns).dropna()"
   ]
  },
  {
   "cell_type": "code",
   "execution_count": 5,
   "metadata": {
    "collapsed": false
   },
   "outputs": [
    {
     "data": {
      "text/html": [
       "<div>\n",
       "<table border=\"1\" class=\"dataframe\">\n",
       "  <thead>\n",
       "    <tr style=\"text-align: right;\">\n",
       "      <th></th>\n",
       "      <th>place_code</th>\n",
       "      <th>destination_code</th>\n",
       "      <th>date</th>\n",
       "      <th>review</th>\n",
       "    </tr>\n",
       "  </thead>\n",
       "  <tbody>\n",
       "    <tr>\n",
       "      <th>1</th>\n",
       "      <td>g147249</td>\n",
       "      <td>d148915</td>\n",
       "      <td>February 28 2016</td>\n",
       "      <td>Great beach very nice clear water. The fact th...</td>\n",
       "    </tr>\n",
       "    <tr>\n",
       "      <th>2</th>\n",
       "      <td>g147249</td>\n",
       "      <td>d148915</td>\n",
       "      <td>February 27 2016</td>\n",
       "      <td>I love this beach because the water was the wa...</td>\n",
       "    </tr>\n",
       "    <tr>\n",
       "      <th>3</th>\n",
       "      <td>g147249</td>\n",
       "      <td>d148915</td>\n",
       "      <td>February 25 2016</td>\n",
       "      <td>This was my favorite beach in Aruba. The waves...</td>\n",
       "    </tr>\n",
       "    <tr>\n",
       "      <th>4</th>\n",
       "      <td>g147249</td>\n",
       "      <td>d148915</td>\n",
       "      <td>February 25 2016</td>\n",
       "      <td>much better beach then where the hotels are. W...</td>\n",
       "    </tr>\n",
       "    <tr>\n",
       "      <th>5</th>\n",
       "      <td>g147249</td>\n",
       "      <td>d148915</td>\n",
       "      <td>February 25 2016</td>\n",
       "      <td>This looks like a good beach to snorkel. We di...</td>\n",
       "    </tr>\n",
       "    <tr>\n",
       "      <th>9</th>\n",
       "      <td>g147249</td>\n",
       "      <td>d148915</td>\n",
       "      <td>February 21 2016</td>\n",
       "      <td>This was the most beautiful calm water white s...</td>\n",
       "    </tr>\n",
       "    <tr>\n",
       "      <th>10</th>\n",
       "      <td>g147249</td>\n",
       "      <td>d148915</td>\n",
       "      <td>February 19 2016</td>\n",
       "      <td>Its a drive from a hotel zone but definitely w...</td>\n",
       "    </tr>\n",
       "    <tr>\n",
       "      <th>12</th>\n",
       "      <td>g147249</td>\n",
       "      <td>d148915</td>\n",
       "      <td>February 19 2016</td>\n",
       "      <td>I loved that beach we arrived very early like ...</td>\n",
       "    </tr>\n",
       "    <tr>\n",
       "      <th>13</th>\n",
       "      <td>g147249</td>\n",
       "      <td>d148915</td>\n",
       "      <td>February 19 2016</td>\n",
       "      <td>This beach is breath taking. The water is gorg...</td>\n",
       "    </tr>\n",
       "    <tr>\n",
       "      <th>14</th>\n",
       "      <td>g147249</td>\n",
       "      <td>d148915</td>\n",
       "      <td>February 19 2016</td>\n",
       "      <td>Easy to get to just north of the high rises. G...</td>\n",
       "    </tr>\n",
       "  </tbody>\n",
       "</table>\n",
       "</div>"
      ],
      "text/plain": [
       "   place_code destination_code              date  \\\n",
       "1     g147249          d148915  February 28 2016   \n",
       "2     g147249          d148915  February 27 2016   \n",
       "3     g147249          d148915  February 25 2016   \n",
       "4     g147249          d148915  February 25 2016   \n",
       "5     g147249          d148915  February 25 2016   \n",
       "9     g147249          d148915  February 21 2016   \n",
       "10    g147249          d148915  February 19 2016   \n",
       "12    g147249          d148915  February 19 2016   \n",
       "13    g147249          d148915  February 19 2016   \n",
       "14    g147249          d148915  February 19 2016   \n",
       "\n",
       "                                               review  \n",
       "1   Great beach very nice clear water. The fact th...  \n",
       "2   I love this beach because the water was the wa...  \n",
       "3   This was my favorite beach in Aruba. The waves...  \n",
       "4   much better beach then where the hotels are. W...  \n",
       "5   This looks like a good beach to snorkel. We di...  \n",
       "9   This was the most beautiful calm water white s...  \n",
       "10  Its a drive from a hotel zone but definitely w...  \n",
       "12  I loved that beach we arrived very early like ...  \n",
       "13  This beach is breath taking. The water is gorg...  \n",
       "14  Easy to get to just north of the high rises. G...  "
      ]
     },
     "execution_count": 5,
     "metadata": {},
     "output_type": "execute_result"
    }
   ],
   "source": [
    "reviews.head(10)"
   ]
  },
  {
   "cell_type": "code",
   "execution_count": 94,
   "metadata": {
    "collapsed": false
   },
   "outputs": [
    {
     "data": {
      "text/plain": [
       "g147293    4029\n",
       "g147249    2710\n",
       "g147367    2021\n",
       "g147365    1638\n",
       "g666621     526\n",
       "g317146     434\n",
       "g488162     250\n",
       "g147264     228\n",
       "g147342     170\n",
       "Name: place_code, dtype: int64"
      ]
     },
     "execution_count": 94,
     "metadata": {},
     "output_type": "execute_result"
    }
   ],
   "source": [
    "reviews['place_code'].value_counts()"
   ]
  },
  {
   "cell_type": "code",
   "execution_count": 95,
   "metadata": {
    "collapsed": false
   },
   "outputs": [],
   "source": [
    "reviews['date'] = pd.to_datetime(reviews['date'])"
   ]
  },
  {
   "cell_type": "code",
   "execution_count": 97,
   "metadata": {
    "collapsed": false
   },
   "outputs": [
    {
     "data": {
      "text/html": [
       "<div>\n",
       "<table border=\"1\" class=\"dataframe\">\n",
       "  <thead>\n",
       "    <tr style=\"text-align: right;\">\n",
       "      <th></th>\n",
       "      <th>place_code</th>\n",
       "      <th>destination_code</th>\n",
       "      <th>date</th>\n",
       "      <th>review</th>\n",
       "    </tr>\n",
       "  </thead>\n",
       "  <tbody>\n",
       "    <tr>\n",
       "      <th>count</th>\n",
       "      <td>12006</td>\n",
       "      <td>12006</td>\n",
       "      <td>12006</td>\n",
       "      <td>12006</td>\n",
       "    </tr>\n",
       "    <tr>\n",
       "      <th>unique</th>\n",
       "      <td>9</td>\n",
       "      <td>12</td>\n",
       "      <td>35</td>\n",
       "      <td>11635</td>\n",
       "    </tr>\n",
       "    <tr>\n",
       "      <th>top</th>\n",
       "      <td>g147293</td>\n",
       "      <td>d215733</td>\n",
       "      <td>2016-02-08 00:00:00</td>\n",
       "      <td>It was the best beach in Grand Cayman; however...</td>\n",
       "    </tr>\n",
       "    <tr>\n",
       "      <th>freq</th>\n",
       "      <td>4029</td>\n",
       "      <td>4029</td>\n",
       "      <td>3190</td>\n",
       "      <td>37</td>\n",
       "    </tr>\n",
       "    <tr>\n",
       "      <th>first</th>\n",
       "      <td>NaN</td>\n",
       "      <td>NaN</td>\n",
       "      <td>2016-02-08 00:00:00</td>\n",
       "      <td>NaN</td>\n",
       "    </tr>\n",
       "    <tr>\n",
       "      <th>last</th>\n",
       "      <td>NaN</td>\n",
       "      <td>NaN</td>\n",
       "      <td>2016-03-13 00:00:00</td>\n",
       "      <td>NaN</td>\n",
       "    </tr>\n",
       "  </tbody>\n",
       "</table>\n",
       "</div>"
      ],
      "text/plain": [
       "       place_code destination_code                 date  \\\n",
       "count       12006            12006                12006   \n",
       "unique          9               12                   35   \n",
       "top       g147293          d215733  2016-02-08 00:00:00   \n",
       "freq         4029             4029                 3190   \n",
       "first         NaN              NaN  2016-02-08 00:00:00   \n",
       "last          NaN              NaN  2016-03-13 00:00:00   \n",
       "\n",
       "                                                   review  \n",
       "count                                               12006  \n",
       "unique                                              11635  \n",
       "top     It was the best beach in Grand Cayman; however...  \n",
       "freq                                                   37  \n",
       "first                                                 NaN  \n",
       "last                                                  NaN  "
      ]
     },
     "execution_count": 97,
     "metadata": {},
     "output_type": "execute_result"
    }
   ],
   "source": [
    "reviews.describe()"
   ]
  },
  {
   "cell_type": "markdown",
   "metadata": {
    "collapsed": true
   },
   "source": [
    "# LDA\n",
    "\n",
    "### Use the 'text-only' version of the parsed reviews to explore if there are any significant topics that are relevant, essentially trying to discover what people are talking about in the reviews of the different destinations."
   ]
  },
  {
   "cell_type": "code",
   "execution_count": 115,
   "metadata": {
    "collapsed": true
   },
   "outputs": [],
   "source": [
    "cv = CountVectorizer(binary=False, max_df=.7)"
   ]
  },
  {
   "cell_type": "code",
   "execution_count": 116,
   "metadata": {
    "collapsed": false
   },
   "outputs": [],
   "source": [
    "review_text_only = [unicode(review_text, errors='ignore') for review_text in open('captured_reviews_text_only.txt', 'r')]\n",
    "docs = cv.fit_transform(review_text_only)\n",
    "id2word = dict(enumerate(cv.get_feature_names()))\n",
    "corpus = Sparse2Corpus(docs, documents_columns = False)\n",
    "lda_model = LdaModel(corpus=corpus, id2word=id2word, num_topics=4)"
   ]
  },
  {
   "cell_type": "code",
   "execution_count": 106,
   "metadata": {
    "collapsed": false
   },
   "outputs": [
    {
     "name": "stdout",
     "output_type": "stream",
     "text": [
      "  (12, 811)\t1\n",
      "  (12, 4167)\t1\n",
      "  (21, 650)\t1\n",
      "  (135, 4420)\t1\n",
      "  (139, 2018)\t1\n",
      "  (141, 496)\t1\n",
      "  (256, 3195)\t1\n",
      "  (257, 2778)\t1\n",
      "  (258, 1646)\t1\n",
      "  (259, 4184)\t1\n",
      "  (395, 2004)\t1\n",
      "  (395, 4578)\t1\n",
      "  (400, 1462)\t1\n",
      "  (404, 4753)\t1\n",
      "  (410, 4408)\t1\n",
      "  (410, 2417)\t1\n",
      "  (410, 2416)\t1\n",
      "  (416, 3958)\t1\n",
      "  (421, 3266)\t1\n",
      "  (423, 1504)\t1\n",
      "  (429, 2140)\t1\n",
      "  (432, 3590)\t1\n",
      "  (434, 4156)\t1\n",
      "  (440, 473)\t1\n",
      "  (444, 4898)\t2\n",
      "  :\t:\n",
      "  (21579, 2036)\t1\n",
      "  (21600, 4510)\t1\n",
      "  (21606, 8)\t1\n",
      "  (21606, 1233)\t1\n",
      "  (21606, 3735)\t1\n",
      "  (21606, 3029)\t1\n",
      "  (21609, 1995)\t1\n",
      "  (21616, 353)\t1\n",
      "  (21616, 1382)\t1\n",
      "  (21616, 2557)\t1\n",
      "  (21616, 3702)\t1\n",
      "  (21631, 2941)\t1\n",
      "  (21634, 13)\t1\n",
      "  (21636, 157)\t1\n",
      "  (21655, 3425)\t1\n",
      "  (21655, 514)\t1\n",
      "  (21655, 794)\t1\n",
      "  (21660, 1003)\t1\n",
      "  (21661, 2103)\t1\n",
      "  (21663, 3882)\t1\n",
      "  (21663, 2647)\t1\n",
      "  (21665, 747)\t1\n",
      "  (21665, 4869)\t1\n",
      "  (21665, 1467)\t1\n",
      "  (21665, 1992)\t1\n"
     ]
    }
   ],
   "source": [
    "print(docs)"
   ]
  },
  {
   "cell_type": "code",
   "execution_count": 91,
   "metadata": {
    "collapsed": false
   },
   "outputs": [
    {
     "data": {
      "text/plain": [
       "[(0,\n",
       "  [(u'aninal', 0.0020600404719852213),\n",
       "   (u'habitats', 0.0020600404719852213),\n",
       "   (u'acquire', 0.0020600404719852213),\n",
       "   (u'drenched', 0.0020384282085782156),\n",
       "   (u'waving', 0.0020384282085782156),\n",
       "   (u'availale', 0.0020383832326325304),\n",
       "   (u'wate', 0.0020383832326325304),\n",
       "   (u'tom', 0.0020383677865344124),\n",
       "   (u'shauna', 0.0020383677865344124),\n",
       "   (u'lenny', 0.0020382854242067426)]),\n",
       " (1,\n",
       "  [(u'mufongo', 0.0023579345510437925),\n",
       "   (u'terrified', 0.0012156351635225519),\n",
       "   (u'garlic', 0.0012156351635225519),\n",
       "   (u'plantain', 0.0012156351635225519),\n",
       "   (u'spelled', 0.0012156351635225519),\n",
       "   (u'herb', 0.0012156351635225519),\n",
       "   (u'cracklings', 0.0012156351635225519),\n",
       "   (u'restaurantssome', 0.0012133187267820273),\n",
       "   (u'shopschair', 0.0012133187267820273),\n",
       "   (u'gamesafter', 0.0012133187267820273)]),\n",
       " (2,\n",
       "  [(u'ear', 0.0016873252422783432),\n",
       "   (u'occupy', 0.0016647159991512424),\n",
       "   (u'4x4', 0.0016646887520366741),\n",
       "   (u'5usd', 0.0016645741196287696),\n",
       "   (u'sportparasalingscubajet', 0.00090634820590237866),\n",
       "   (u'doyou', 0.00090634820590237866),\n",
       "   (u'amazingwater', 0.00090634820590237866),\n",
       "   (u'fron', 0.00090634820590237866),\n",
       "   (u'resortshotel', 0.00090634820590237866),\n",
       "   (u'prity', 0.00090634820590237866)]),\n",
       " (3,\n",
       "  [(u'mondays', 0.0020140821218010223),\n",
       "   (u'aswell', 0.001995326116404128),\n",
       "   (u'peppers', 0.001064641254416708),\n",
       "   (u'agaumizukraft', 0.001064641254416708),\n",
       "   (u'caymana', 0.001064641254416708),\n",
       "   (u'spice', 0.001064641254416708),\n",
       "   (u'curry', 0.001064641254416708),\n",
       "   (u'crepes', 0.0010646411202959829),\n",
       "   (u'tony', 0.0010646411202959829),\n",
       "   (u'rene', 0.0010646411202959829)])]"
      ]
     },
     "execution_count": 91,
     "metadata": {},
     "output_type": "execute_result"
    }
   ],
   "source": [
    "lda_model.show_topics(log=False, formatted=False)"
   ]
  },
  {
   "cell_type": "code",
   "execution_count": 101,
   "metadata": {
    "collapsed": false
   },
   "outputs": [
    {
     "name": "stdout",
     "output_type": "stream",
     "text": [
      "0.006*aswell + 0.005*boa + 0.005*constrictors + 0.005*fainting + 0.003*rhum + 0.003*familiesfriend + 0.003*countrysouvenirs + 0.003*prostutes + 0.003*fantasticand + 0.003*pickpockets\n",
      "\n",
      "0.006*mufongo + 0.003*cracklings + 0.003*terrified + 0.003*spelled + 0.003*herb + 0.003*plantain + 0.003*garlic + 0.003*bajin + 0.003*crusine + 0.003*bbd\n",
      "\n",
      "0.005*mondays + 0.002*curry + 0.002*spice + 0.002*agaumizukraft + 0.002*caymana + 0.002*peppers + 0.002*listed + 0.002*medeiros + 0.002*thx + 0.002*trustworthy\n",
      "\n",
      "0.004*cabarate + 0.004*seawall + 0.004*yea + 0.004*lamasemus + 0.004*10usd + 0.004*sosoa + 0.004*mustfrendly + 0.004*maitaining + 0.004*himeslf + 0.004*9am\n",
      "\n",
      "0.005*hedgehog + 0.005*greedy + 0.005*piglets + 0.005*accessable + 0.005*peurto + 0.005*sunbay + 0.005*unimpressed + 0.005*oistens + 0.005*hospital + 0.005*turqouis\n",
      "\n",
      "0.005*exclusions + 0.005*flights + 0.005*tromp + 0.005*peolple + 0.003*69 + 0.003*rene + 0.003*crepes + 0.003*tony + 0.003*macaroni + 0.003*puertoplata\n",
      "\n",
      "0.003*figure + 0.003*anyways + 0.003*personallyi + 0.003*cleanthey + 0.003*allbut + 0.003*overratedin + 0.003*pages + 0.003*10bd + 0.003*da + 0.003*sandwich\n",
      "\n",
      "0.004*calmthere + 0.004*shopschair + 0.004*restaurantssome + 0.004*xv111 + 0.004*rentalshower + 0.004*gamesafter + 0.004*purse + 0.004*supporting + 0.004*welfare + 0.004*thief\n",
      "\n",
      "0.005*fiine + 0.005*absent + 0.005*coastguard + 0.005*reassured + 0.005*seabut + 0.005*15bbd + 0.005*boundary + 0.005*marking + 0.005*erect + 0.005*holds\n",
      "\n",
      "0.005*battery + 0.005*bouganvillia + 0.005*influx + 0.005*eventhough + 0.005*encouraged + 0.004*occupy + 0.002*orlando + 0.002*jetpack + 0.002*elaine + 0.002*wayne\n",
      "\n"
     ]
    }
   ],
   "source": [
    "#topic_labeler='A'\n",
    "#topic_data = pd.DataFrame(columns=\"topic_label, words\")\n",
    "for nextTopic in topics:\n",
    "    topicIndex, members = nextTopic\n",
    "    memberWords = members\n",
    "    print(memberWords+\"\\n\")"
   ]
  },
  {
   "cell_type": "markdown",
   "metadata": {
    "collapsed": true
   },
   "source": [
    "# K-means"
   ]
  },
  {
   "cell_type": "code",
   "execution_count": 120,
   "metadata": {
    "collapsed": false
   },
   "outputs": [
    {
     "name": "stderr",
     "output_type": "stream",
     "text": [
      "/Users/rogeliozuniga/anaconda/lib/python2.7/site-packages/sklearn/utils/validation.py:420: DataConversionWarning: Data with input dtype int64 was converted to float64 by StandardScaler.\n",
      "  warnings.warn(msg, DataConversionWarning)\n",
      "/Users/rogeliozuniga/anaconda/lib/python2.7/site-packages/sklearn/utils/validation.py:420: DataConversionWarning: Data with input dtype int64 was converted to float64 by StandardScaler.\n",
      "  warnings.warn(msg, DataConversionWarning)\n"
     ]
    }
   ],
   "source": [
    "column_names = reviews.columns\n",
    "scale = StandardScaler(with_mean=False)\n",
    "X_scale = scale.fit_transform(docs)"
   ]
  },
  {
   "cell_type": "code",
   "execution_count": 121,
   "metadata": {
    "collapsed": false
   },
   "outputs": [
    {
     "data": {
      "image/png": "[encoded data removed]",
      "text/plain": [
       "<matplotlib.figure.Figure at 0x11b720310>"
      ]
     },
     "metadata": {},
     "output_type": "display_data"
    }
   ],
   "source": [
    "import matplotlib.pyplot as plt\n",
    "%matplotlib inline\n",
    "\n",
    "x = []\n",
    "y = []\n",
    "for n in range(1,20):\n",
    "    km = KMeans(n_clusters=n)\n",
    "    km.fit(X_scale)\n",
    "    x.append(n)\n",
    "    y.append(km.inertia_)\n",
    "    \n",
    "plt.figure(figsize=(8, 6), dpi=80)\n",
    "plt.xlabel('N_CLUSTERS')\n",
    "plt.ylabel('INERTIA')\n",
    "plt.title('MAX_DF=.7')\n",
    "plt.plot(x, y, marker='o',linestyle='--', color='g')\n",
    "plt.xticks(np.arange(min(x), max(x)+1, 1.0));"
   ]
  },
  {
   "cell_type": "code",
   "execution_count": 123,
   "metadata": {
    "collapsed": false
   },
   "outputs": [
    {
     "data": {
      "text/plain": [
       "[<matplotlib.lines.Line2D at 0x11b8c0310>]"
      ]
     },
     "execution_count": 123,
     "metadata": {},
     "output_type": "execute_result"
    },
    {
     "data": {
      "image/png": "[encoded data removed]",
      "text/plain": [
       "<matplotlib.figure.Figure at 0x11c10bb90>"
      ]
     },
     "metadata": {},
     "output_type": "display_data"
    }
   ],
   "source": [
    "x = []\n",
    "y = []\n",
    "for n in range(2,10):\n",
    "    km2 = KMeans(n_clusters=n)\n",
    "    centers = km2.fit_predict(X_scale)\n",
    "    x.append(n)\n",
    "    y.append(silhouette_score(X_scale, centers))\n",
    "plt.plot(x, y, marker='o')"
   ]
  },
  {
   "cell_type": "code",
   "execution_count": 13,
   "metadata": {
    "collapsed": false
   },
   "outputs": [],
   "source": [
    "km3 = KMeans(n_clusters=5)\n",
    "five_centers = km3.fit_predict(X_scale)"
   ]
  },
  {
   "cell_type": "code",
   "execution_count": 57,
   "metadata": {
    "collapsed": false
   },
   "outputs": [
    {
     "name": "stdout",
     "output_type": "stream",
     "text": [
      "[0 0 0 ..., 0 0 0]\n"
     ]
    }
   ],
   "source": [
    "print(km3.labels_)"
   ]
  },
  {
   "cell_type": "code",
   "execution_count": 21,
   "metadata": {
    "collapsed": false
   },
   "outputs": [
    {
     "data": {
      "text/html": [
       "<div>\n",
       "<table border=\"1\" class=\"dataframe\">\n",
       "  <thead>\n",
       "    <tr style=\"text-align: right;\">\n",
       "      <th></th>\n",
       "      <th>0</th>\n",
       "      <th>1</th>\n",
       "    </tr>\n",
       "  </thead>\n",
       "  <tbody>\n",
       "    <tr>\n",
       "      <th>0</th>\n",
       "      <td>0.003</td>\n",
       "      <td>0.000</td>\n",
       "    </tr>\n",
       "    <tr>\n",
       "      <th>1</th>\n",
       "      <td>0.000</td>\n",
       "      <td>0.000</td>\n",
       "    </tr>\n",
       "    <tr>\n",
       "      <th>2</th>\n",
       "      <td>0.000</td>\n",
       "      <td>0.000</td>\n",
       "    </tr>\n",
       "    <tr>\n",
       "      <th>3</th>\n",
       "      <td>0.000</td>\n",
       "      <td>0.000</td>\n",
       "    </tr>\n",
       "    <tr>\n",
       "      <th>4</th>\n",
       "      <td>0.000</td>\n",
       "      <td>0.000</td>\n",
       "    </tr>\n",
       "    <tr>\n",
       "      <th>5</th>\n",
       "      <td>0.000</td>\n",
       "      <td>0.000</td>\n",
       "    </tr>\n",
       "    <tr>\n",
       "      <th>6</th>\n",
       "      <td>0.000</td>\n",
       "      <td>0.000</td>\n",
       "    </tr>\n",
       "    <tr>\n",
       "      <th>7</th>\n",
       "      <td>0.000</td>\n",
       "      <td>0.000</td>\n",
       "    </tr>\n",
       "    <tr>\n",
       "      <th>8</th>\n",
       "      <td>0.007</td>\n",
       "      <td>0.000</td>\n",
       "    </tr>\n",
       "    <tr>\n",
       "      <th>9</th>\n",
       "      <td>0.002</td>\n",
       "      <td>0.000</td>\n",
       "    </tr>\n",
       "    <tr>\n",
       "      <th>10</th>\n",
       "      <td>0.000</td>\n",
       "      <td>0.000</td>\n",
       "    </tr>\n",
       "    <tr>\n",
       "      <th>11</th>\n",
       "      <td>0.000</td>\n",
       "      <td>0.000</td>\n",
       "    </tr>\n",
       "    <tr>\n",
       "      <th>12</th>\n",
       "      <td>0.000</td>\n",
       "      <td>0.000</td>\n",
       "    </tr>\n",
       "    <tr>\n",
       "      <th>13</th>\n",
       "      <td>0.000</td>\n",
       "      <td>0.000</td>\n",
       "    </tr>\n",
       "    <tr>\n",
       "      <th>14</th>\n",
       "      <td>0.000</td>\n",
       "      <td>0.000</td>\n",
       "    </tr>\n",
       "    <tr>\n",
       "      <th>15</th>\n",
       "      <td>0.000</td>\n",
       "      <td>0.000</td>\n",
       "    </tr>\n",
       "    <tr>\n",
       "      <th>16</th>\n",
       "      <td>0.000</td>\n",
       "      <td>0.000</td>\n",
       "    </tr>\n",
       "    <tr>\n",
       "      <th>17</th>\n",
       "      <td>0.000</td>\n",
       "      <td>0.000</td>\n",
       "    </tr>\n",
       "    <tr>\n",
       "      <th>18</th>\n",
       "      <td>0.000</td>\n",
       "      <td>0.000</td>\n",
       "    </tr>\n",
       "    <tr>\n",
       "      <th>19</th>\n",
       "      <td>0.000</td>\n",
       "      <td>0.000</td>\n",
       "    </tr>\n",
       "    <tr>\n",
       "      <th>20</th>\n",
       "      <td>0.000</td>\n",
       "      <td>0.000</td>\n",
       "    </tr>\n",
       "    <tr>\n",
       "      <th>21</th>\n",
       "      <td>0.001</td>\n",
       "      <td>0.000</td>\n",
       "    </tr>\n",
       "    <tr>\n",
       "      <th>22</th>\n",
       "      <td>0.000</td>\n",
       "      <td>0.000</td>\n",
       "    </tr>\n",
       "    <tr>\n",
       "      <th>23</th>\n",
       "      <td>0.000</td>\n",
       "      <td>0.000</td>\n",
       "    </tr>\n",
       "    <tr>\n",
       "      <th>24</th>\n",
       "      <td>0.000</td>\n",
       "      <td>0.000</td>\n",
       "    </tr>\n",
       "    <tr>\n",
       "      <th>25</th>\n",
       "      <td>0.000</td>\n",
       "      <td>0.000</td>\n",
       "    </tr>\n",
       "    <tr>\n",
       "      <th>26</th>\n",
       "      <td>0.000</td>\n",
       "      <td>0.000</td>\n",
       "    </tr>\n",
       "    <tr>\n",
       "      <th>27</th>\n",
       "      <td>0.001</td>\n",
       "      <td>0.000</td>\n",
       "    </tr>\n",
       "    <tr>\n",
       "      <th>28</th>\n",
       "      <td>0.000</td>\n",
       "      <td>0.000</td>\n",
       "    </tr>\n",
       "    <tr>\n",
       "      <th>29</th>\n",
       "      <td>0.000</td>\n",
       "      <td>0.000</td>\n",
       "    </tr>\n",
       "    <tr>\n",
       "      <th>...</th>\n",
       "      <td>...</td>\n",
       "      <td>...</td>\n",
       "    </tr>\n",
       "    <tr>\n",
       "      <th>10202</th>\n",
       "      <td>0.000</td>\n",
       "      <td>0.000</td>\n",
       "    </tr>\n",
       "    <tr>\n",
       "      <th>10203</th>\n",
       "      <td>0.003</td>\n",
       "      <td>0.000</td>\n",
       "    </tr>\n",
       "    <tr>\n",
       "      <th>10204</th>\n",
       "      <td>0.000</td>\n",
       "      <td>0.000</td>\n",
       "    </tr>\n",
       "    <tr>\n",
       "      <th>10205</th>\n",
       "      <td>0.000</td>\n",
       "      <td>0.000</td>\n",
       "    </tr>\n",
       "    <tr>\n",
       "      <th>10206</th>\n",
       "      <td>0.000</td>\n",
       "      <td>0.000</td>\n",
       "    </tr>\n",
       "    <tr>\n",
       "      <th>10207</th>\n",
       "      <td>0.000</td>\n",
       "      <td>0.000</td>\n",
       "    </tr>\n",
       "    <tr>\n",
       "      <th>10208</th>\n",
       "      <td>0.000</td>\n",
       "      <td>0.000</td>\n",
       "    </tr>\n",
       "    <tr>\n",
       "      <th>10209</th>\n",
       "      <td>0.000</td>\n",
       "      <td>0.000</td>\n",
       "    </tr>\n",
       "    <tr>\n",
       "      <th>10210</th>\n",
       "      <td>0.000</td>\n",
       "      <td>0.000</td>\n",
       "    </tr>\n",
       "    <tr>\n",
       "      <th>10211</th>\n",
       "      <td>0.000</td>\n",
       "      <td>0.000</td>\n",
       "    </tr>\n",
       "    <tr>\n",
       "      <th>10212</th>\n",
       "      <td>0.000</td>\n",
       "      <td>0.000</td>\n",
       "    </tr>\n",
       "    <tr>\n",
       "      <th>10213</th>\n",
       "      <td>0.000</td>\n",
       "      <td>0.000</td>\n",
       "    </tr>\n",
       "    <tr>\n",
       "      <th>10214</th>\n",
       "      <td>0.000</td>\n",
       "      <td>0.000</td>\n",
       "    </tr>\n",
       "    <tr>\n",
       "      <th>10215</th>\n",
       "      <td>0.000</td>\n",
       "      <td>0.000</td>\n",
       "    </tr>\n",
       "    <tr>\n",
       "      <th>10216</th>\n",
       "      <td>0.000</td>\n",
       "      <td>0.000</td>\n",
       "    </tr>\n",
       "    <tr>\n",
       "      <th>10217</th>\n",
       "      <td>0.001</td>\n",
       "      <td>0.000</td>\n",
       "    </tr>\n",
       "    <tr>\n",
       "      <th>10218</th>\n",
       "      <td>0.000</td>\n",
       "      <td>0.000</td>\n",
       "    </tr>\n",
       "    <tr>\n",
       "      <th>10219</th>\n",
       "      <td>0.000</td>\n",
       "      <td>0.000</td>\n",
       "    </tr>\n",
       "    <tr>\n",
       "      <th>10220</th>\n",
       "      <td>0.000</td>\n",
       "      <td>0.000</td>\n",
       "    </tr>\n",
       "    <tr>\n",
       "      <th>10221</th>\n",
       "      <td>0.000</td>\n",
       "      <td>0.000</td>\n",
       "    </tr>\n",
       "    <tr>\n",
       "      <th>10222</th>\n",
       "      <td>0.000</td>\n",
       "      <td>0.000</td>\n",
       "    </tr>\n",
       "    <tr>\n",
       "      <th>10223</th>\n",
       "      <td>0.000</td>\n",
       "      <td>0.000</td>\n",
       "    </tr>\n",
       "    <tr>\n",
       "      <th>10224</th>\n",
       "      <td>0.000</td>\n",
       "      <td>0.000</td>\n",
       "    </tr>\n",
       "    <tr>\n",
       "      <th>10225</th>\n",
       "      <td>0.000</td>\n",
       "      <td>0.000</td>\n",
       "    </tr>\n",
       "    <tr>\n",
       "      <th>10226</th>\n",
       "      <td>0.000</td>\n",
       "      <td>0.000</td>\n",
       "    </tr>\n",
       "    <tr>\n",
       "      <th>10227</th>\n",
       "      <td>0.001</td>\n",
       "      <td>0.000</td>\n",
       "    </tr>\n",
       "    <tr>\n",
       "      <th>10228</th>\n",
       "      <td>0.000</td>\n",
       "      <td>0.000</td>\n",
       "    </tr>\n",
       "    <tr>\n",
       "      <th>10229</th>\n",
       "      <td>0.002</td>\n",
       "      <td>0.000</td>\n",
       "    </tr>\n",
       "    <tr>\n",
       "      <th>10230</th>\n",
       "      <td>0.000</td>\n",
       "      <td>0.000</td>\n",
       "    </tr>\n",
       "    <tr>\n",
       "      <th>10231</th>\n",
       "      <td>0.000</td>\n",
       "      <td>0.000</td>\n",
       "    </tr>\n",
       "  </tbody>\n",
       "</table>\n",
       "<p>10232 rows × 2 columns</p>\n",
       "</div>"
      ],
      "text/plain": [
       "          0     1\n",
       "0     0.003 0.000\n",
       "1     0.000 0.000\n",
       "2     0.000 0.000\n",
       "3     0.000 0.000\n",
       "4     0.000 0.000\n",
       "5     0.000 0.000\n",
       "6     0.000 0.000\n",
       "7     0.000 0.000\n",
       "8     0.007 0.000\n",
       "9     0.002 0.000\n",
       "10    0.000 0.000\n",
       "11    0.000 0.000\n",
       "12    0.000 0.000\n",
       "13    0.000 0.000\n",
       "14    0.000 0.000\n",
       "15    0.000 0.000\n",
       "16    0.000 0.000\n",
       "17    0.000 0.000\n",
       "18    0.000 0.000\n",
       "19    0.000 0.000\n",
       "20    0.000 0.000\n",
       "21    0.001 0.000\n",
       "22    0.000 0.000\n",
       "23    0.000 0.000\n",
       "24    0.000 0.000\n",
       "25    0.000 0.000\n",
       "26    0.000 0.000\n",
       "27    0.001 0.000\n",
       "28    0.000 0.000\n",
       "29    0.000 0.000\n",
       "...     ...   ...\n",
       "10202 0.000 0.000\n",
       "10203 0.003 0.000\n",
       "10204 0.000 0.000\n",
       "10205 0.000 0.000\n",
       "10206 0.000 0.000\n",
       "10207 0.000 0.000\n",
       "10208 0.000 0.000\n",
       "10209 0.000 0.000\n",
       "10210 0.000 0.000\n",
       "10211 0.000 0.000\n",
       "10212 0.000 0.000\n",
       "10213 0.000 0.000\n",
       "10214 0.000 0.000\n",
       "10215 0.000 0.000\n",
       "10216 0.000 0.000\n",
       "10217 0.001 0.000\n",
       "10218 0.000 0.000\n",
       "10219 0.000 0.000\n",
       "10220 0.000 0.000\n",
       "10221 0.000 0.000\n",
       "10222 0.000 0.000\n",
       "10223 0.000 0.000\n",
       "10224 0.000 0.000\n",
       "10225 0.000 0.000\n",
       "10226 0.000 0.000\n",
       "10227 0.001 0.000\n",
       "10228 0.000 0.000\n",
       "10229 0.002 0.000\n",
       "10230 0.000 0.000\n",
       "10231 0.000 0.000\n",
       "\n",
       "[10232 rows x 2 columns]"
      ]
     },
     "execution_count": 21,
     "metadata": {},
     "output_type": "execute_result"
    }
   ],
   "source": [
    "km4 = KMeans(n_clusters=2, n_init=20)\n",
    "km4.fit(X_scale)\n",
    "pd.set_option('display.float_format', lambda x: '%.3f' % x)\n",
    "columns = {str(x): scale.inverse_transform(km4.cluster_centers_[x]) for x in range(0,len(km4.cluster_centers_))}\n",
    "pd.DataFrame(columns)"
   ]
  },
  {
   "cell_type": "code",
   "execution_count": null,
   "metadata": {
    "collapsed": true
   },
   "outputs": [],
   "source": []
  }
 ],
 "metadata": {
  "kernelspec": {
   "display_name": "Python 2",
   "language": "python",
   "name": "python2"
  },
  "language_info": {
   "codemirror_mode": {
    "name": "ipython",
    "version": 2
   },
   "file_extension": ".py",
   "mimetype": "text/x-python",
   "name": "python",
   "nbconvert_exporter": "python",
   "pygments_lexer": "ipython2",
   "version": "2.7.11"
  }
 },
 "nbformat": 4,
 "nbformat_minor": 0
}
