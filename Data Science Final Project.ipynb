{
 "cells": [
  {
   "cell_type": "code",
   "execution_count": 3,
   "metadata": {
    "collapsed": true
   },
   "outputs": [],
   "source": [
    "import pandas as pd\n",
    "import numpy as np\n",
    "from gensim.models.ldamodel import LdaModel\n",
    "from gensim.matutils import Sparse2Corpus\n",
    "from sklearn.preprocessing import StandardScaler\n",
    "from sklearn.feature_extraction.text import CountVectorizer\n",
    "from sklearn.cluster import KMeans\n",
    "import matplotlib.pyplot as plt\n",
    "%matplotlib inline"
   ]
  },
  {
   "cell_type": "code",
   "execution_count": 74,
   "metadata": {
    "collapsed": false
   },
   "outputs": [],
   "source": [
    "columns = ['place_code','destination_code','date','review']\n",
    "reviews = pd.read_csv('captured_reviews.csv',names=columns).dropna()"
   ]
  },
  {
   "cell_type": "code",
   "execution_count": 59,
   "metadata": {
    "collapsed": false
   },
   "outputs": [
    {
     "data": {
      "text/html": [
       "<div>\n",
       "<table border=\"1\" class=\"dataframe\">\n",
       "  <thead>\n",
       "    <tr style=\"text-align: right;\">\n",
       "      <th></th>\n",
       "      <th>place_code</th>\n",
       "      <th>destination_code</th>\n",
       "      <th>date</th>\n",
       "      <th>review</th>\n",
       "    </tr>\n",
       "  </thead>\n",
       "  <tbody>\n",
       "    <tr>\n",
       "      <th>2</th>\n",
       "      <td>g1006573</td>\n",
       "      <td>d1102010</td>\n",
       "      <td>February 13 2016</td>\n",
       "      <td>This is an experience that should not be misse...</td>\n",
       "    </tr>\n",
       "    <tr>\n",
       "      <th>4</th>\n",
       "      <td>g1006573</td>\n",
       "      <td>d1102010</td>\n",
       "      <td>February 13 2016</td>\n",
       "      <td>The horses are well cared for and well behaved...</td>\n",
       "    </tr>\n",
       "    <tr>\n",
       "      <th>5</th>\n",
       "      <td>g1006573</td>\n",
       "      <td>d1102010</td>\n",
       "      <td>February 13 2016</td>\n",
       "      <td>I had the most wonderful time riding with Pamp...</td>\n",
       "    </tr>\n",
       "    <tr>\n",
       "      <th>6</th>\n",
       "      <td>g1006573</td>\n",
       "      <td>d1102010</td>\n",
       "      <td>February 13 2016</td>\n",
       "      <td>We have horses at home and wanted to ride on a...</td>\n",
       "    </tr>\n",
       "    <tr>\n",
       "      <th>10</th>\n",
       "      <td>g1006573</td>\n",
       "      <td>d1102010</td>\n",
       "      <td>February 13 2016</td>\n",
       "      <td>The guide and ride was great. Communication wa...</td>\n",
       "    </tr>\n",
       "    <tr>\n",
       "      <th>15</th>\n",
       "      <td>g1006573</td>\n",
       "      <td>d1383025</td>\n",
       "      <td>February 17 2016</td>\n",
       "      <td>I enjoyed my private beach ride along the beac...</td>\n",
       "    </tr>\n",
       "    <tr>\n",
       "      <th>16</th>\n",
       "      <td>g1006573</td>\n",
       "      <td>d1383025</td>\n",
       "      <td>February 17 2016</td>\n",
       "      <td>Definitely worth it! Was one of the best exper...</td>\n",
       "    </tr>\n",
       "    <tr>\n",
       "      <th>19</th>\n",
       "      <td>g1006573</td>\n",
       "      <td>d1383025</td>\n",
       "      <td>February 17 2016</td>\n",
       "      <td>This was the best Swimming with the horse we h...</td>\n",
       "    </tr>\n",
       "    <tr>\n",
       "      <th>25</th>\n",
       "      <td>g1006573</td>\n",
       "      <td>d1415235</td>\n",
       "      <td>March 4 2016</td>\n",
       "      <td>We didn't have time to stay and swim with the ...</td>\n",
       "    </tr>\n",
       "    <tr>\n",
       "      <th>26</th>\n",
       "      <td>g1006573</td>\n",
       "      <td>d1415235</td>\n",
       "      <td>March 3 2016</td>\n",
       "      <td>It was very fun and safe. My daughter loved it...</td>\n",
       "    </tr>\n",
       "    <tr>\n",
       "      <th>27</th>\n",
       "      <td>g1006573</td>\n",
       "      <td>d1415235</td>\n",
       "      <td>March 3 2016</td>\n",
       "      <td>Dolphin experience was great. The way they hav...</td>\n",
       "    </tr>\n",
       "    <tr>\n",
       "      <th>31</th>\n",
       "      <td>g1006573</td>\n",
       "      <td>d1415235</td>\n",
       "      <td>February 29 2016</td>\n",
       "      <td>We just spent a short time at the Dolphin Disc...</td>\n",
       "    </tr>\n",
       "    <tr>\n",
       "      <th>37</th>\n",
       "      <td>g1006573</td>\n",
       "      <td>d1437338</td>\n",
       "      <td>February 12 2016</td>\n",
       "      <td>Great for \"old folks\" AND kids. This cruise wa...</td>\n",
       "    </tr>\n",
       "    <tr>\n",
       "      <th>38</th>\n",
       "      <td>g1006573</td>\n",
       "      <td>d1437338</td>\n",
       "      <td>February 8 2016</td>\n",
       "      <td>Capi and his trainer were great and the kids w...</td>\n",
       "    </tr>\n",
       "    <tr>\n",
       "      <th>40</th>\n",
       "      <td>g1006573</td>\n",
       "      <td>d1437338</td>\n",
       "      <td>February 4 2016</td>\n",
       "      <td>Best shore excursions! The staff made it very ...</td>\n",
       "    </tr>\n",
       "    <tr>\n",
       "      <th>41</th>\n",
       "      <td>g1006573</td>\n",
       "      <td>d1437338</td>\n",
       "      <td>February 3 2016</td>\n",
       "      <td>This is a great experience. One of the highlig...</td>\n",
       "    </tr>\n",
       "    <tr>\n",
       "      <th>42</th>\n",
       "      <td>g1006573</td>\n",
       "      <td>d1437338</td>\n",
       "      <td>February 3 2016</td>\n",
       "      <td>A small group from our cruise ship went here; ...</td>\n",
       "    </tr>\n",
       "    <tr>\n",
       "      <th>45</th>\n",
       "      <td>g1006573</td>\n",
       "      <td>d1989109</td>\n",
       "      <td>March 5 2016</td>\n",
       "      <td>This was my second visit to Grand Cayman and m...</td>\n",
       "    </tr>\n",
       "    <tr>\n",
       "      <th>46</th>\n",
       "      <td>g1006573</td>\n",
       "      <td>d1989109</td>\n",
       "      <td>March 4 2016</td>\n",
       "      <td>Plenty of cutouts/swing through so specificall...</td>\n",
       "    </tr>\n",
       "    <tr>\n",
       "      <th>47</th>\n",
       "      <td>g1006573</td>\n",
       "      <td>d1989109</td>\n",
       "      <td>February 29 2016</td>\n",
       "      <td>We snorkeled all around the ship and the schoo...</td>\n",
       "    </tr>\n",
       "  </tbody>\n",
       "</table>\n",
       "</div>"
      ],
      "text/plain": [
       "   place_code destination_code              date  \\\n",
       "2    g1006573         d1102010  February 13 2016   \n",
       "4    g1006573         d1102010  February 13 2016   \n",
       "5    g1006573         d1102010  February 13 2016   \n",
       "6    g1006573         d1102010  February 13 2016   \n",
       "10   g1006573         d1102010  February 13 2016   \n",
       "15   g1006573         d1383025  February 17 2016   \n",
       "16   g1006573         d1383025  February 17 2016   \n",
       "19   g1006573         d1383025  February 17 2016   \n",
       "25   g1006573         d1415235      March 4 2016   \n",
       "26   g1006573         d1415235      March 3 2016   \n",
       "27   g1006573         d1415235      March 3 2016   \n",
       "31   g1006573         d1415235  February 29 2016   \n",
       "37   g1006573         d1437338  February 12 2016   \n",
       "38   g1006573         d1437338   February 8 2016   \n",
       "40   g1006573         d1437338   February 4 2016   \n",
       "41   g1006573         d1437338   February 3 2016   \n",
       "42   g1006573         d1437338   February 3 2016   \n",
       "45   g1006573         d1989109      March 5 2016   \n",
       "46   g1006573         d1989109      March 4 2016   \n",
       "47   g1006573         d1989109  February 29 2016   \n",
       "\n",
       "                                               review  \n",
       "2   This is an experience that should not be misse...  \n",
       "4   The horses are well cared for and well behaved...  \n",
       "5   I had the most wonderful time riding with Pamp...  \n",
       "6   We have horses at home and wanted to ride on a...  \n",
       "10  The guide and ride was great. Communication wa...  \n",
       "15  I enjoyed my private beach ride along the beac...  \n",
       "16  Definitely worth it! Was one of the best exper...  \n",
       "19  This was the best Swimming with the horse we h...  \n",
       "25  We didn't have time to stay and swim with the ...  \n",
       "26  It was very fun and safe. My daughter loved it...  \n",
       "27  Dolphin experience was great. The way they hav...  \n",
       "31  We just spent a short time at the Dolphin Disc...  \n",
       "37  Great for \"old folks\" AND kids. This cruise wa...  \n",
       "38  Capi and his trainer were great and the kids w...  \n",
       "40  Best shore excursions! The staff made it very ...  \n",
       "41  This is a great experience. One of the highlig...  \n",
       "42  A small group from our cruise ship went here; ...  \n",
       "45  This was my second visit to Grand Cayman and m...  \n",
       "46  Plenty of cutouts/swing through so specificall...  \n",
       "47  We snorkeled all around the ship and the schoo...  "
      ]
     },
     "execution_count": 59,
     "metadata": {},
     "output_type": "execute_result"
    }
   ],
   "source": [
    "reviews.head(20)"
   ]
  },
  {
   "cell_type": "code",
   "execution_count": 75,
   "metadata": {
    "collapsed": false
   },
   "outputs": [
    {
     "data": {
      "text/plain": [
       "g147249     285\n",
       "g147293     168\n",
       "g147313     154\n",
       "g147312     124\n",
       "g147365     122\n",
       "g147366     121\n",
       "g259440     107\n",
       "g488162     104\n",
       "g147342      99\n",
       "g147367      99\n",
       "g317146      76\n",
       "g666621      64\n",
       "g147264      43\n",
       "g1183194     43\n",
       "g147345      34\n",
       "g1006573     33\n",
       "g147343      18\n",
       "g666611      15\n",
       "g147248      13\n",
       "g3176298     12\n",
       "g147294      11\n",
       "g652398       9\n",
       "g616286       7\n",
       "g2194940      7\n",
       "g1310451      6\n",
       "g147344       6\n",
       "g147263       5\n",
       "g1183257      4\n",
       "g946307       4\n",
       "g1183186      4\n",
       "g147251       4\n",
       "g147290       4\n",
       "g147311       3\n",
       "g8843616      3\n",
       "g1722406      3\n",
       "g1959515      1\n",
       "dtype: int64"
      ]
     },
     "execution_count": 75,
     "metadata": {},
     "output_type": "execute_result"
    }
   ],
   "source": [
    "reviews['place_code'].value_counts()"
   ]
  },
  {
   "cell_type": "code",
   "execution_count": 76,
   "metadata": {
    "collapsed": false
   },
   "outputs": [],
   "source": [
    "reviews['date'] = pd.to_datetime(reviews['date'])"
   ]
  },
  {
   "cell_type": "code",
   "execution_count": 77,
   "metadata": {
    "collapsed": false
   },
   "outputs": [
    {
     "data": {
      "text/html": [
       "<div>\n",
       "<table border=\"1\" class=\"dataframe\">\n",
       "  <thead>\n",
       "    <tr style=\"text-align: right;\">\n",
       "      <th></th>\n",
       "      <th>place_code</th>\n",
       "      <th>destination_code</th>\n",
       "      <th>date</th>\n",
       "      <th>review</th>\n",
       "    </tr>\n",
       "  </thead>\n",
       "  <tbody>\n",
       "    <tr>\n",
       "      <th>count</th>\n",
       "      <td>1815</td>\n",
       "      <td>1815</td>\n",
       "      <td>1815</td>\n",
       "      <td>1815</td>\n",
       "    </tr>\n",
       "    <tr>\n",
       "      <th>unique</th>\n",
       "      <td>36</td>\n",
       "      <td>223</td>\n",
       "      <td>37</td>\n",
       "      <td>1732</td>\n",
       "    </tr>\n",
       "    <tr>\n",
       "      <th>top</th>\n",
       "      <td>g147249</td>\n",
       "      <td>d150447</td>\n",
       "      <td>2016-03-10 00:00:00</td>\n",
       "      <td>I was amazed by Romance of the Seas captain an...</td>\n",
       "    </tr>\n",
       "    <tr>\n",
       "      <th>freq</th>\n",
       "      <td>285</td>\n",
       "      <td>63</td>\n",
       "      <td>113</td>\n",
       "      <td>2</td>\n",
       "    </tr>\n",
       "    <tr>\n",
       "      <th>first</th>\n",
       "      <td>NaN</td>\n",
       "      <td>NaN</td>\n",
       "      <td>2016-02-03 00:00:00</td>\n",
       "      <td>NaN</td>\n",
       "    </tr>\n",
       "    <tr>\n",
       "      <th>last</th>\n",
       "      <td>NaN</td>\n",
       "      <td>NaN</td>\n",
       "      <td>2016-03-10 00:00:00</td>\n",
       "      <td>NaN</td>\n",
       "    </tr>\n",
       "  </tbody>\n",
       "</table>\n",
       "</div>"
      ],
      "text/plain": [
       "       place_code destination_code                 date  \\\n",
       "count        1815             1815                 1815   \n",
       "unique         36              223                   37   \n",
       "top       g147249          d150447  2016-03-10 00:00:00   \n",
       "freq          285               63                  113   \n",
       "first         NaN              NaN  2016-02-03 00:00:00   \n",
       "last          NaN              NaN  2016-03-10 00:00:00   \n",
       "\n",
       "                                                   review  \n",
       "count                                                1815  \n",
       "unique                                               1732  \n",
       "top     I was amazed by Romance of the Seas captain an...  \n",
       "freq                                                    2  \n",
       "first                                                 NaN  \n",
       "last                                                  NaN  "
      ]
     },
     "execution_count": 77,
     "metadata": {},
     "output_type": "execute_result"
    }
   ],
   "source": [
    "reviews.describe()"
   ]
  },
  {
   "cell_type": "markdown",
   "metadata": {
    "collapsed": true
   },
   "source": [
    "# LDA\n",
    "\n",
    "### Use the 'text-only' version of the parsed reviews to explore if there are any significant topics that are relevant, essentially trying to discover what people are talking about in the reviews about the different destinations."
   ]
  },
  {
   "cell_type": "code",
   "execution_count": 78,
   "metadata": {
    "collapsed": true
   },
   "outputs": [],
   "source": [
    "cv = CountVectorizer(binary=False, stop_words='english', min_df=3, max_features=5)"
   ]
  },
  {
   "cell_type": "code",
   "execution_count": 80,
   "metadata": {
    "collapsed": false
   },
   "outputs": [
    {
     "name": "stderr",
     "output_type": "stream",
     "text": [
      "WARNING:gensim.models.ldamodel:too few updates, training might not converge; consider increasing the number of passes or iterations to improve accuracy\n"
     ]
    },
    {
     "data": {
      "text/plain": [
       "[(0,\n",
       "  u'0.384*beach + 0.267*nice + 0.266*water + 0.058*great + 0.025*beautiful'),\n",
       " (1,\n",
       "  u'0.679*nice + 0.191*beach + 0.112*beautiful + 0.015*great + 0.004*water'),\n",
       " (2,\n",
       "  u'0.531*water + 0.175*great + 0.124*nice + 0.087*beautiful + 0.082*beach'),\n",
       " (3,\n",
       "  u'0.510*great + 0.420*beautiful + 0.040*water + 0.018*nice + 0.011*beach'),\n",
       " (4,\n",
       "  u'0.836*great + 0.123*beach + 0.023*water + 0.017*nice + 0.001*beautiful'),\n",
       " (5,\n",
       "  u'0.838*beach + 0.125*beautiful + 0.019*great + 0.011*water + 0.007*nice'),\n",
       " (6,\n",
       "  u'0.497*beach + 0.317*water + 0.089*beautiful + 0.082*great + 0.014*nice'),\n",
       " (7,\n",
       "  u'0.565*beautiful + 0.189*beach + 0.162*great + 0.079*water + 0.005*nice'),\n",
       " (8,\n",
       "  u'0.393*great + 0.257*beautiful + 0.220*nice + 0.120*water + 0.010*beach'),\n",
       " (9,\n",
       "  u'0.367*beach + 0.322*beautiful + 0.258*water + 0.045*great + 0.009*nice')]"
      ]
     },
     "execution_count": 80,
     "metadata": {},
     "output_type": "execute_result"
    }
   ],
   "source": [
    "review_text_only = [unicode(review_text, errors='ignore') for review_text in open('captured_reviews_text_only.txt', 'r')]\n",
    "docs = cv.fit_transform(review_text_only)\n",
    "id2word = dict(enumerate(cv.get_feature_names()))\n",
    "corpus = Sparse2Corpus(docs, documents_columns = False)\n",
    "lda_model = LdaModel(corpus=corpus, id2word=id2word, num_topics=10)\n",
    "lda_model.show_topics()"
   ]
  },
  {
   "cell_type": "markdown",
   "metadata": {
    "collapsed": true
   },
   "source": [
    "# K-means"
   ]
  },
  {
   "cell_type": "code",
   "execution_count": 81,
   "metadata": {
    "collapsed": false
   },
   "outputs": [],
   "source": [
    "column_names = reviews.columns\n",
    "scale = StandardScaler(with_mean=False)\n",
    "X_scale = scale.fit_transform(docs)"
   ]
  },
  {
   "cell_type": "code",
   "execution_count": 82,
   "metadata": {
    "collapsed": false
   },
   "outputs": [
    {
     "data": {
      "text/plain": [
       "[<matplotlib.lines.Line2D at 0x1103151d0>]"
      ]
     },
     "execution_count": 82,
     "metadata": {},
     "output_type": "execute_result"
    },
    {
     "data": {
      "image/png": "[encoded data removed]",
      "text/plain": [
       "<matplotlib.figure.Figure at 0x10a560290>"
      ]
     },
     "metadata": {},
     "output_type": "display_data"
    }
   ],
   "source": [
    "import matplotlib.pyplot as plt\n",
    "%matplotlib inline\n",
    "\n",
    "x = []\n",
    "y = []\n",
    "for n in range(1,20):\n",
    "    km = KMeans(n_clusters=n)\n",
    "    km.fit(X_scale)\n",
    "    x.append(n)\n",
    "    y.append(km.inertia_)\n",
    "plt.plot(x, y)"
   ]
  },
  {
   "cell_type": "code",
   "execution_count": 83,
   "metadata": {
    "collapsed": false
   },
   "outputs": [
    {
     "data": {
      "text/plain": [
       "[<matplotlib.lines.Line2D at 0x10a609390>]"
      ]
     },
     "execution_count": 83,
     "metadata": {},
     "output_type": "execute_result"
    },
    {
     "data": {
      "image/png": "[encoded data removed]",
      "text/plain": [
       "<matplotlib.figure.Figure at 0x10a7a5810>"
      ]
     },
     "metadata": {},
     "output_type": "display_data"
    }
   ],
   "source": [
    "from sklearn.metrics import silhouette_score\n",
    "x = []\n",
    "y = []\n",
    "for n in range(2,20):\n",
    "    km2 = KMeans(n_clusters=n)\n",
    "    centers = km2.fit_predict(X_scale)\n",
    "    x.append(n)\n",
    "    y.append(silhouette_score(X_scale, centers))\n",
    "plt.plot(x, y)"
   ]
  },
  {
   "cell_type": "code",
   "execution_count": null,
   "metadata": {
    "collapsed": true
   },
   "outputs": [],
   "source": []
  }
 ],
 "metadata": {
  "kernelspec": {
   "display_name": "Python 2",
   "language": "python",
   "name": "python2"
  },
  "language_info": {
   "codemirror_mode": {
    "name": "ipython",
    "version": 2
   },
   "file_extension": ".py",
   "mimetype": "text/x-python",
   "name": "python",
   "nbconvert_exporter": "python",
   "pygments_lexer": "ipython2",
   "version": "2.7.11"
  }
 },
 "nbformat": 4,
 "nbformat_minor": 0
}
