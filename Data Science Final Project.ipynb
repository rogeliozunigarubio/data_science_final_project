{
 "cells": [
  {
   "cell_type": "code",
   "execution_count": 3,
   "metadata": {
    "collapsed": true
   },
   "outputs": [],
   "source": [
    "import pandas as pd\n",
    "import numpy as np\n",
    "from gensim.models.ldamodel import LdaModel\n",
    "from gensim.matutils import Sparse2Corpus\n",
    "from sklearn.preprocessing import StandardScaler\n",
    "from sklearn.feature_extraction.text import CountVectorizer\n",
    "from sklearn.cluster import KMeans\n",
    "import matplotlib.pyplot as plt\n",
    "%matplotlib inline"
   ]
  },
  {
   "cell_type": "code",
   "execution_count": 4,
   "metadata": {
    "collapsed": false
   },
   "outputs": [],
   "source": [
    "columns = ['place_code','destination_code','date','review']\n",
    "reviews = pd.read_csv('captured_reviews.csv',names=columns, na_values='')"
   ]
  },
  {
   "cell_type": "code",
   "execution_count": 14,
   "metadata": {
    "collapsed": false
   },
   "outputs": [
    {
     "data": {
      "text/html": [
       "<div>\n",
       "<table border=\"1\" class=\"dataframe\">\n",
       "  <thead>\n",
       "    <tr style=\"text-align: right;\">\n",
       "      <th></th>\n",
       "      <th>place_code</th>\n",
       "      <th>destination_code</th>\n",
       "      <th>date</th>\n",
       "      <th>review</th>\n",
       "    </tr>\n",
       "  </thead>\n",
       "  <tbody>\n",
       "    <tr>\n",
       "      <th>0</th>\n",
       "      <td>g1006573</td>\n",
       "      <td>d1102010</td>\n",
       "      <td>February 27 2016</td>\n",
       "      <td></td>\n",
       "    </tr>\n",
       "    <tr>\n",
       "      <th>1</th>\n",
       "      <td>g1006573</td>\n",
       "      <td>d1102010</td>\n",
       "      <td>February 27 2016</td>\n",
       "      <td></td>\n",
       "    </tr>\n",
       "    <tr>\n",
       "      <th>2</th>\n",
       "      <td>g1006573</td>\n",
       "      <td>d1102010</td>\n",
       "      <td>February 13 2016</td>\n",
       "      <td>This is an experience that should not be misse...</td>\n",
       "    </tr>\n",
       "    <tr>\n",
       "      <th>3</th>\n",
       "      <td>g1006573</td>\n",
       "      <td>d1102010</td>\n",
       "      <td>February 13 2016</td>\n",
       "      <td></td>\n",
       "    </tr>\n",
       "    <tr>\n",
       "      <th>4</th>\n",
       "      <td>g1006573</td>\n",
       "      <td>d1102010</td>\n",
       "      <td>February 13 2016</td>\n",
       "      <td>The horses are well cared for and well behaved...</td>\n",
       "    </tr>\n",
       "    <tr>\n",
       "      <th>5</th>\n",
       "      <td>g1006573</td>\n",
       "      <td>d1102010</td>\n",
       "      <td>February 13 2016</td>\n",
       "      <td>I had the most wonderful time riding with Pamp...</td>\n",
       "    </tr>\n",
       "    <tr>\n",
       "      <th>6</th>\n",
       "      <td>g1006573</td>\n",
       "      <td>d1102010</td>\n",
       "      <td>February 13 2016</td>\n",
       "      <td>We have horses at home and wanted to ride on a...</td>\n",
       "    </tr>\n",
       "    <tr>\n",
       "      <th>7</th>\n",
       "      <td>g1006573</td>\n",
       "      <td>d1102010</td>\n",
       "      <td>February 13 2016</td>\n",
       "      <td></td>\n",
       "    </tr>\n",
       "    <tr>\n",
       "      <th>8</th>\n",
       "      <td>g1006573</td>\n",
       "      <td>d1102010</td>\n",
       "      <td>February 13 2016</td>\n",
       "      <td></td>\n",
       "    </tr>\n",
       "    <tr>\n",
       "      <th>9</th>\n",
       "      <td>g1006573</td>\n",
       "      <td>d1102010</td>\n",
       "      <td>February 13 2016</td>\n",
       "      <td></td>\n",
       "    </tr>\n",
       "    <tr>\n",
       "      <th>10</th>\n",
       "      <td>g1006573</td>\n",
       "      <td>d1102010</td>\n",
       "      <td>February 13 2016</td>\n",
       "      <td>The guide and ride was great. Communication wa...</td>\n",
       "    </tr>\n",
       "    <tr>\n",
       "      <th>11</th>\n",
       "      <td>g1006573</td>\n",
       "      <td>d1383025</td>\n",
       "      <td>February 17 2016</td>\n",
       "      <td></td>\n",
       "    </tr>\n",
       "    <tr>\n",
       "      <th>12</th>\n",
       "      <td>g1006573</td>\n",
       "      <td>d1383025</td>\n",
       "      <td>February 23 2016</td>\n",
       "      <td></td>\n",
       "    </tr>\n",
       "    <tr>\n",
       "      <th>13</th>\n",
       "      <td>g1006573</td>\n",
       "      <td>d1383025</td>\n",
       "      <td>February 17 2016</td>\n",
       "      <td></td>\n",
       "    </tr>\n",
       "    <tr>\n",
       "      <th>14</th>\n",
       "      <td>g1006573</td>\n",
       "      <td>d1383025</td>\n",
       "      <td>February 17 2016</td>\n",
       "      <td></td>\n",
       "    </tr>\n",
       "    <tr>\n",
       "      <th>15</th>\n",
       "      <td>g1006573</td>\n",
       "      <td>d1383025</td>\n",
       "      <td>February 17 2016</td>\n",
       "      <td>I enjoyed my private beach ride along the beac...</td>\n",
       "    </tr>\n",
       "    <tr>\n",
       "      <th>16</th>\n",
       "      <td>g1006573</td>\n",
       "      <td>d1383025</td>\n",
       "      <td>February 17 2016</td>\n",
       "      <td>Definitely worth it! Was one of the best exper...</td>\n",
       "    </tr>\n",
       "    <tr>\n",
       "      <th>17</th>\n",
       "      <td>g1006573</td>\n",
       "      <td>d1383025</td>\n",
       "      <td>February 17 2016</td>\n",
       "      <td></td>\n",
       "    </tr>\n",
       "    <tr>\n",
       "      <th>18</th>\n",
       "      <td>g1006573</td>\n",
       "      <td>d1383025</td>\n",
       "      <td>February 17 2016</td>\n",
       "      <td></td>\n",
       "    </tr>\n",
       "    <tr>\n",
       "      <th>19</th>\n",
       "      <td>g1006573</td>\n",
       "      <td>d1383025</td>\n",
       "      <td>February 17 2016</td>\n",
       "      <td>This was the best Swimming with the horse we h...</td>\n",
       "    </tr>\n",
       "  </tbody>\n",
       "</table>\n",
       "</div>"
      ],
      "text/plain": [
       "   place_code destination_code              date  \\\n",
       "0    g1006573         d1102010  February 27 2016   \n",
       "1    g1006573         d1102010  February 27 2016   \n",
       "2    g1006573         d1102010  February 13 2016   \n",
       "3    g1006573         d1102010  February 13 2016   \n",
       "4    g1006573         d1102010  February 13 2016   \n",
       "5    g1006573         d1102010  February 13 2016   \n",
       "6    g1006573         d1102010  February 13 2016   \n",
       "7    g1006573         d1102010  February 13 2016   \n",
       "8    g1006573         d1102010  February 13 2016   \n",
       "9    g1006573         d1102010  February 13 2016   \n",
       "10   g1006573         d1102010  February 13 2016   \n",
       "11   g1006573         d1383025  February 17 2016   \n",
       "12   g1006573         d1383025  February 23 2016   \n",
       "13   g1006573         d1383025  February 17 2016   \n",
       "14   g1006573         d1383025  February 17 2016   \n",
       "15   g1006573         d1383025  February 17 2016   \n",
       "16   g1006573         d1383025  February 17 2016   \n",
       "17   g1006573         d1383025  February 17 2016   \n",
       "18   g1006573         d1383025  February 17 2016   \n",
       "19   g1006573         d1383025  February 17 2016   \n",
       "\n",
       "                                               review  \n",
       "0                                                      \n",
       "1                                                      \n",
       "2   This is an experience that should not be misse...  \n",
       "3                                                      \n",
       "4   The horses are well cared for and well behaved...  \n",
       "5   I had the most wonderful time riding with Pamp...  \n",
       "6   We have horses at home and wanted to ride on a...  \n",
       "7                                                      \n",
       "8                                                      \n",
       "9                                                      \n",
       "10  The guide and ride was great. Communication wa...  \n",
       "11                                                     \n",
       "12                                                     \n",
       "13                                                     \n",
       "14                                                     \n",
       "15  I enjoyed my private beach ride along the beac...  \n",
       "16  Definitely worth it! Was one of the best exper...  \n",
       "17                                                     \n",
       "18                                                     \n",
       "19  This was the best Swimming with the horse we h...  "
      ]
     },
     "execution_count": 14,
     "metadata": {},
     "output_type": "execute_result"
    }
   ],
   "source": [
    "reviews.fillna('').head(20)"
   ]
  },
  {
   "cell_type": "code",
   "execution_count": 15,
   "metadata": {
    "collapsed": false
   },
   "outputs": [],
   "source": [
    "reviews['date'] = pd.to_datetime(reviews['date'])"
   ]
  },
  {
   "cell_type": "code",
   "execution_count": 41,
   "metadata": {
    "collapsed": false
   },
   "outputs": [
    {
     "data": {
      "text/plain": [
       "g147365     647\n",
       "g147367     452\n",
       "g147313     291\n",
       "g147366     248\n",
       "g1006573    238\n",
       "g259440      99\n",
       "g1722406     90\n",
       "g2194940     51\n",
       "g664458      18\n",
       "g317146      11\n",
       "g147312      11\n",
       "g8781552     10\n",
       "g1973858     10\n",
       "g8843616      7\n",
       "dtype: int64"
      ]
     },
     "execution_count": 41,
     "metadata": {},
     "output_type": "execute_result"
    }
   ],
   "source": [
    "reviews['place_code'].value_counts()"
   ]
  },
  {
   "cell_type": "code",
   "execution_count": 42,
   "metadata": {
    "collapsed": true
   },
   "outputs": [],
   "source": [
    "cv = CountVectorizer(binary=False, stop_words='english', min_df=3)"
   ]
  },
  {
   "cell_type": "code",
   "execution_count": 46,
   "metadata": {
    "collapsed": false
   },
   "outputs": [
    {
     "name": "stderr",
     "output_type": "stream",
     "text": [
      "WARNING:gensim.models.ldamodel:too few updates, training might not converge; consider increasing the number of passes or iterations to improve accuracy\n"
     ]
    },
    {
     "data": {
      "text/plain": [
       "[(0,\n",
       "  u'0.030*beach + 0.019*water + 0.016*great + 0.013*island + 0.010*place + 0.009*lots + 0.008*time + 0.008*mile + 0.008*seven + 0.008*cayman'),\n",
       " (1,\n",
       "  u'0.019*time + 0.017*great + 0.013*nice + 0.012*cayman + 0.010*beach + 0.010*good + 0.010*clean + 0.010*experience + 0.009*beautiful + 0.009*water'),\n",
       " (2,\n",
       "  u'0.041*beach + 0.017*great + 0.015*best + 0.012*sand + 0.011*just + 0.010*nice + 0.010*kids + 0.009*good + 0.009*mile + 0.008*experience'),\n",
       " (3,\n",
       "  u'0.035*beach + 0.028*great + 0.019*beautiful + 0.017*time + 0.016*water + 0.016*just + 0.015*day + 0.013*bay + 0.011*fun + 0.011*nice'),\n",
       " (4,\n",
       "  u'0.021*beach + 0.017*amazing + 0.016*great + 0.016*experience + 0.015*tour + 0.013*beautiful + 0.013*walk + 0.012*place + 0.010*recommend + 0.009*love'),\n",
       " (5,\n",
       "  u'0.020*beach + 0.014*cayman + 0.014*fun + 0.011*beautiful + 0.011*dive + 0.010*nice + 0.010*great + 0.010*grand + 0.010*fish + 0.009*water'),\n",
       " (6,\n",
       "  u'0.049*beach + 0.022*great + 0.015*time + 0.013*best + 0.012*beautiful + 0.010*trip + 0.008*cayman + 0.008*perfect + 0.008*tour + 0.008*good'),\n",
       " (7,\n",
       "  u'0.026*great + 0.015*water + 0.013*nice + 0.012*day + 0.011*tour + 0.011*time + 0.010*beautiful + 0.010*worth + 0.009*cayman + 0.009*took'),\n",
       " (8,\n",
       "  u'0.024*great + 0.019*beautiful + 0.015*beach + 0.013*just + 0.012*water + 0.011*did + 0.010*time + 0.009*trip + 0.009*wonderful + 0.008*little'),\n",
       " (9,\n",
       "  u'0.031*great + 0.024*beach + 0.018*good + 0.013*tour + 0.013*fun + 0.012*time + 0.011*recommend + 0.011*trip + 0.010*people + 0.009*like')]"
      ]
     },
     "execution_count": 46,
     "metadata": {},
     "output_type": "execute_result"
    }
   ],
   "source": [
    "review_text_only = [unicode(review_text, errors='ignore') for review_text in open('captured_reviews_text_only.txt', 'r')]\n",
    "docs = cv.fit_transform(review_text_only)\n",
    "id2word = dict(enumerate(cv.get_feature_names()))\n",
    "corpus = Sparse2Corpus(docs, documents_columns = False)\n",
    "lda_model = LdaModel(corpus=corpus, id2word=id2word, num_topics=10)\n",
    "lda_model.show_topics()"
   ]
  },
  {
   "cell_type": "code",
   "execution_count": null,
   "metadata": {
    "collapsed": true
   },
   "outputs": [],
   "source": []
  }
 ],
 "metadata": {
  "kernelspec": {
   "display_name": "Python 2",
   "language": "python",
   "name": "python2"
  },
  "language_info": {
   "codemirror_mode": {
    "name": "ipython",
    "version": 2
   },
   "file_extension": ".py",
   "mimetype": "text/x-python",
   "name": "python",
   "nbconvert_exporter": "python",
   "pygments_lexer": "ipython2",
   "version": "2.7.11"
  }
 },
 "nbformat": 4,
 "nbformat_minor": 0
}
